{
 "cells": [
  {
   "cell_type": "code",
   "execution_count": 1,
   "id": "d1431531-6bbe-4e2d-a716-a547c8ef0991",
   "metadata": {
    "scrolled": true
   },
   "outputs": [
    {
     "data": {
      "text/plain": [
       "Index(['wearable', 'soc', 'cvip', 'cpu', 'gpu', '5v_sys', 'wlan', 'nvme_pwr1',\n",
       "       'nvme_pwr3', 'nvme_pwr2', 'vddp_run', 'vddp_s5', 'LPDDR_PWR',\n",
       "       'PROC_TOT_PWR', 'THERM_TOT_PWR', 'THERM_TOT_PWR-throttle',\n",
       "       'Tboard_soc1tmp', 'Tdiode_soc1tmp', 'battery', 'chrgr', 'ddr1', 'ddr2',\n",
       "       'mem', 'mero2', 'vrm'],\n",
       "      dtype='object')"
      ]
     },
     "execution_count": 1,
     "metadata": {},
     "output_type": "execute_result"
    }
   ],
   "source": [
    "import pandas as pd \n",
    "import numpy as np \n",
    "dataset = pd.read_csv(r\"C:\\Users\\jesun\\Desktop\\BURGS - AR Privacy\\Development\\ar-privacy\\BurgsDevelopment\\Jai Data Analysis\\blinds_edited.csv\")\n",
    "dataset.keys()"
   ]
  },
  {
   "cell_type": "code",
   "execution_count": 2,
   "id": "0b577fae-f41c-4eb7-b52f-ce85c7ad5062",
   "metadata": {},
   "outputs": [
    {
     "name": "stdout",
     "output_type": "stream",
     "text": [
      "      wearable      soc     cvip      cpu      gpu   5v_sys    wlan  \\\n",
      "0      4423000  1050000  2138000  1080000   105000  5070000  125000   \n",
      "1      4423000  1110000  1315000   630000   105000  4891000  125000   \n",
      "2      4423000  1296000  1496000   853000   105000  4891000  246000   \n",
      "3      4456000  1184000  2043000  1134000   105000  4891000  246000   \n",
      "4      4456000  1265000  1995000   711000  2864000  5130000  229000   \n",
      "...        ...      ...      ...      ...      ...      ...     ...   \n",
      "1255   5023000  1162000  2399000  1242000   963000  5771000  212000   \n",
      "1256   4886000  1376000  1496000   731000   105000  5745000  203000   \n",
      "1257   4886000  1442000  1354000  1129000  1215000  5745000  203000   \n",
      "1258   4886000  1176000  1267000  1895000   105000  5745000  203000   \n",
      "1259   4731000  1398000  1354000   772000   105000  5566000  228000   \n",
      "\n",
      "      nvme_pwr1  nvme_pwr3  nvme_pwr2  ...  THERM_TOT_PWR-throttle  \\\n",
      "0             0       5000      11000  ...                25000000   \n",
      "1         10000     656000          0  ...                25000000   \n",
      "2             0      30000       4000  ...                25000000   \n",
      "3             0      30000       4000  ...                25000000   \n",
      "4             0      30000       4000  ...                25000000   \n",
      "...         ...        ...        ...  ...                     ...   \n",
      "1255          0       8000       4000  ...                25000000   \n",
      "1256          0       8000       4000  ...                25000000   \n",
      "1257          0       8000       7000  ...                25000000   \n",
      "1258          0       5000       4000  ...                25000000   \n",
      "1259          0       5000      11000  ...                25000000   \n",
      "\n",
      "      Tboard_soc1tmp  Tdiode_soc1tmp  battery     chrgr      ddr1      ddr2  \\\n",
      "0              111.2          107.60    80.60  105.5750  110.7500  109.1750   \n",
      "1              111.2          107.60    80.60  105.5750  110.7500  109.1750   \n",
      "2              111.2          107.60    80.60  105.5750  110.7500  109.2866   \n",
      "3              111.2          107.60    80.60  105.5750  110.7500  109.2866   \n",
      "4              111.2          107.60    80.60  105.5750  110.7500  109.2866   \n",
      "...              ...             ...      ...       ...       ...       ...   \n",
      "1255           125.6          122.45    83.12  118.8500  124.7000  122.4500   \n",
      "1256           125.6          122.45    83.12  118.7366  124.5866  122.3366   \n",
      "1257           125.6          122.45    83.12  118.7366  124.5866  122.3366   \n",
      "1258           125.6          122.45    83.12  118.7366  124.5866  122.3366   \n",
      "1259           125.6          122.45    83.12  118.7366  124.5866  122.3366   \n",
      "\n",
      "           mem     mero2       vrm  \n",
      "0     102.5366  111.0866  108.2750  \n",
      "1     102.5366  111.0866  108.2750  \n",
      "2     102.5366  111.0866  108.2750  \n",
      "3     102.5366  111.0866  108.2750  \n",
      "4     102.5366  111.0866  108.2750  \n",
      "...        ...       ...       ...  \n",
      "1255  116.1500  125.2616  121.8866  \n",
      "1256  116.1500  125.2616  121.8866  \n",
      "1257  116.1500  125.2616  121.8866  \n",
      "1258  116.1500  125.2616  121.8866  \n",
      "1259  116.1500  125.2616  121.8866  \n",
      "\n",
      "[1260 rows x 25 columns]\n"
     ]
    }
   ],
   "source": [
    "print(dataset)"
   ]
  },
  {
   "cell_type": "code",
   "execution_count": 3,
   "id": "22b3078a-069e-473d-9a0b-894bf0d008fc",
   "metadata": {},
   "outputs": [
    {
     "name": "stdout",
     "output_type": "stream",
     "text": [
      "          soc     cvip      cpu      gpu   5v_sys    wlan  nvme_pwr1  \\\n",
      "0     1050000  2138000  1080000   105000  5070000  125000          0   \n",
      "1     1110000  1315000   630000   105000  4891000  125000      10000   \n",
      "2     1296000  1496000   853000   105000  4891000  246000          0   \n",
      "3     1184000  2043000  1134000   105000  4891000  246000          0   \n",
      "4     1265000  1995000   711000  2864000  5130000  229000          0   \n",
      "...       ...      ...      ...      ...      ...     ...        ...   \n",
      "1255  1162000  2399000  1242000   963000  5771000  212000          0   \n",
      "1256  1376000  1496000   731000   105000  5745000  203000          0   \n",
      "1257  1442000  1354000  1129000  1215000  5745000  203000          0   \n",
      "1258  1176000  1267000  1895000   105000  5745000  203000          0   \n",
      "1259  1398000  1354000   772000   105000  5566000  228000          0   \n",
      "\n",
      "      nvme_pwr3  nvme_pwr2  vddp_run  ...  THERM_TOT_PWR-throttle  \\\n",
      "0          5000      11000     65000  ...                25000000   \n",
      "1        656000          0     74000  ...                25000000   \n",
      "2         30000       4000     65000  ...                25000000   \n",
      "3         30000       4000     65000  ...                25000000   \n",
      "4         30000       4000     68000  ...                25000000   \n",
      "...         ...        ...       ...  ...                     ...   \n",
      "1255       8000       4000     68000  ...                25000000   \n",
      "1256       8000       4000     68000  ...                25000000   \n",
      "1257       8000       7000     68000  ...                25000000   \n",
      "1258       5000       4000     68000  ...                25000000   \n",
      "1259       5000      11000     68000  ...                25000000   \n",
      "\n",
      "      Tboard_soc1tmp  Tdiode_soc1tmp  battery     chrgr      ddr1      ddr2  \\\n",
      "0              111.2          107.60    80.60  105.5750  110.7500  109.1750   \n",
      "1              111.2          107.60    80.60  105.5750  110.7500  109.1750   \n",
      "2              111.2          107.60    80.60  105.5750  110.7500  109.2866   \n",
      "3              111.2          107.60    80.60  105.5750  110.7500  109.2866   \n",
      "4              111.2          107.60    80.60  105.5750  110.7500  109.2866   \n",
      "...              ...             ...      ...       ...       ...       ...   \n",
      "1255           125.6          122.45    83.12  118.8500  124.7000  122.4500   \n",
      "1256           125.6          122.45    83.12  118.7366  124.5866  122.3366   \n",
      "1257           125.6          122.45    83.12  118.7366  124.5866  122.3366   \n",
      "1258           125.6          122.45    83.12  118.7366  124.5866  122.3366   \n",
      "1259           125.6          122.45    83.12  118.7366  124.5866  122.3366   \n",
      "\n",
      "           mem     mero2       vrm  \n",
      "0     102.5366  111.0866  108.2750  \n",
      "1     102.5366  111.0866  108.2750  \n",
      "2     102.5366  111.0866  108.2750  \n",
      "3     102.5366  111.0866  108.2750  \n",
      "4     102.5366  111.0866  108.2750  \n",
      "...        ...       ...       ...  \n",
      "1255  116.1500  125.2616  121.8866  \n",
      "1256  116.1500  125.2616  121.8866  \n",
      "1257  116.1500  125.2616  121.8866  \n",
      "1258  116.1500  125.2616  121.8866  \n",
      "1259  116.1500  125.2616  121.8866  \n",
      "\n",
      "[1260 rows x 24 columns]\n"
     ]
    }
   ],
   "source": [
    "X= dataset.iloc[:, 1:]\n",
    "print(X)"
   ]
  },
  {
   "cell_type": "code",
   "execution_count": 7,
   "id": "54806185-61d3-4c0a-978a-b6abc65af254",
   "metadata": {},
   "outputs": [],
   "source": [
    "from sklearn.impute import SimpleImputer\n",
    "imputer = SimpleImputer(missing_values = np.nan, strategy = 'mean')\n",
    "imputer = imputer.fit(X)\n",
    "X = imputer.transform(X)"
   ]
  },
  {
   "cell_type": "code",
   "execution_count": 8,
   "id": "a63037dc-708b-4abb-b720-b72baa105108",
   "metadata": {},
   "outputs": [],
   "source": [
    "from sklearn.preprocessing import MinMaxScaler\n",
    "scaler = MinMaxScaler()\n",
    "model = scaler.fit(X)\n",
    "scaled_X = model.transform(X)"
   ]
  },
  {
   "cell_type": "code",
   "execution_count": 9,
   "id": "74204f27-81fd-45ae-a1c9-6f0fedf3da6f",
   "metadata": {},
   "outputs": [
    {
     "data": {
      "text/plain": [
       "(1260, 24)"
      ]
     },
     "execution_count": 9,
     "metadata": {},
     "output_type": "execute_result"
    }
   ],
   "source": [
    "from sklearn.decomposition import PCA\n",
    "pca1 = PCA()\n",
    "X_pca1 = pca1.fit_transform(scaled_X)\n",
    "X.shape"
   ]
  },
  {
   "cell_type": "code",
   "execution_count": 10,
   "id": "042e5d61-8630-4310-82b8-40a60993d2d1",
   "metadata": {},
   "outputs": [
    {
     "data": {
      "text/plain": [
       "array([6.74961385e-01, 9.25148096e-02, 5.52145582e-02, 3.94857025e-02,\n",
       "       3.37946444e-02, 2.32749248e-02, 1.79603758e-02, 1.63461031e-02,\n",
       "       1.29115818e-02, 1.12605711e-02, 6.23845953e-03, 5.46359653e-03,\n",
       "       4.30737596e-03, 3.42961225e-03, 1.54676782e-03, 6.69099289e-04,\n",
       "       4.26173515e-04, 1.51056049e-04, 2.10044214e-05, 1.03642522e-05,\n",
       "       7.07909903e-06, 4.75507496e-06, 2.96849618e-32, 1.41757112e-35])"
      ]
     },
     "execution_count": 10,
     "metadata": {},
     "output_type": "execute_result"
    }
   ],
   "source": [
    "#variation shows how much variance each category has \n",
    "pca1.explained_variance_ratio_"
   ]
  },
  {
   "cell_type": "code",
   "execution_count": 15,
   "id": "6195d612-ed34-42f0-8c6b-c65e7f938640",
   "metadata": {},
   "outputs": [
    {
     "data": {
      "text/plain": [
       "[]"
      ]
     },
     "execution_count": 15,
     "metadata": {},
     "output_type": "execute_result"
    },
    {
     "data": {
      "image/png": "[encoded data removed]",
      "text/plain": [
       "<Figure size 640x480 with 1 Axes>"
      ]
     },
     "metadata": {},
     "output_type": "display_data"
    }
   ],
   "source": [
    "import matplotlib.pyplot as plt \n",
    "plt.bar(range(1,len(pca1.explained_variance_)+1),pca1.explained_variance_)\n",
    "plt.ylabel('Explained Variance')\n",
    "plt.xlabel('Components')\n",
    "plt.plot()"
   ]
  },
  {
   "cell_type": "code",
   "execution_count": 16,
   "id": "1ab9eb19-6d3f-4a63-a786-d80399ab4cd9",
   "metadata": {},
   "outputs": [
    {
     "data": {
      "text/plain": [
       "Text(0, 0.5, 'Explained Variance')"
      ]
     },
     "execution_count": 16,
     "metadata": {},
     "output_type": "execute_result"
    },
    {
     "data": {
      "image/png": "[encoded data removed]",
      "text/plain": [
       "<Figure size 640x480 with 1 Axes>"
      ]
     },
     "metadata": {},
     "output_type": "display_data"
    }
   ],
   "source": [
    "plt.plot(pca1.explained_variance_)\n",
    "plt.xlabel('Number of Components')\n",
    "plt.ylabel('Explained Variance')"
   ]
  },
  {
   "cell_type": "code",
   "execution_count": 17,
   "id": "4ec92a92-e97b-4c04-9407-775854a07d93",
   "metadata": {},
   "outputs": [
    {
     "data": {
      "text/plain": [
       "(1260, 8)"
      ]
     },
     "execution_count": 17,
     "metadata": {},
     "output_type": "execute_result"
    }
   ],
   "source": [
    "#getting the components that explain about 95% of the variance in the data \n",
    "pca2 = PCA(0.95)\n",
    "X_pca2 = pca2.fit_transform(scaled_X)\n",
    "X_pca2.shape"
   ]
  },
  {
   "cell_type": "code",
   "execution_count": 18,
   "id": "9bb799ac-ad04-4c3e-b7b0-b58abc4793e4",
   "metadata": {},
   "outputs": [],
   "source": [
    "#getting the top 2 components \n",
    "pca3 = PCA(n_components=2)\n",
    "X_pca3 = pca3.fit_transform(scaled_X)"
   ]
  },
  {
   "cell_type": "code",
   "execution_count": 23,
   "id": "170b0dcb-70be-4c46-8a28-2e8654901632",
   "metadata": {
    "scrolled": true
   },
   "outputs": [],
   "source": [
    "loadings = pd.DataFrame(pca3.components_.T, columns=['PC1', 'PC2'], index=dataset.columns[:24])"
   ]
  },
  {
   "cell_type": "code",
   "execution_count": 25,
   "id": "3794e79b-2bb5-41f8-b462-1230b7b4b17f",
   "metadata": {},
   "outputs": [
    {
     "name": "stdout",
     "output_type": "stream",
     "text": [
      "                             PC1       PC2\n",
      "wearable               -0.038255 -0.171822\n",
      "soc                    -0.015687 -0.008428\n",
      "cvip                   -0.036619  0.156097\n",
      "cpu                    -0.059602 -0.564658\n",
      "gpu                    -0.047577 -0.032659\n",
      "5v_sys                 -0.012351  0.017308\n",
      "wlan                    0.002350 -0.001833\n",
      "nvme_pwr1               0.014533 -0.001175\n",
      "nvme_pwr3               0.003148 -0.002603\n",
      "nvme_pwr2              -0.009738  0.016774\n",
      "vddp_run               -0.286911 -0.019734\n",
      "vddp_s5                -0.175370  0.024436\n",
      "LPDDR_PWR              -0.077130  0.571674\n",
      "PROC_TOT_PWR           -0.092668  0.542056\n",
      "THERM_TOT_PWR           0.000000 -0.000000\n",
      "THERM_TOT_PWR-throttle -0.309350 -0.023168\n",
      "Tboard_soc1tmp         -0.295381 -0.014529\n",
      "Tdiode_soc1tmp         -0.311266 -0.029124\n",
      "battery                -0.313667 -0.020884\n",
      "chrgr                  -0.310987 -0.018762\n",
      "ddr1                   -0.316955 -0.018159\n",
      "ddr2                   -0.292213 -0.022237\n",
      "mem                    -0.317489 -0.018604\n",
      "mero2                  -0.318542 -0.019111\n"
     ]
    }
   ],
   "source": [
    "print(loadings)"
   ]
  },
  {
   "cell_type": "code",
   "execution_count": null,
   "id": "cc451151-5e3b-4263-99d9-f5afbd9e7df3",
   "metadata": {},
   "outputs": [],
   "source": []
  }
 ],
 "metadata": {
  "kernelspec": {
   "display_name": "Python 3 (ipykernel)",
   "language": "python",
   "name": "python3"
  },
  "language_info": {
   "codemirror_mode": {
    "name": "ipython",
    "version": 3
   },
   "file_extension": ".py",
   "mimetype": "text/x-python",
   "name": "python",
   "nbconvert_exporter": "python",
   "pygments_lexer": "ipython3",
   "version": "3.12.3"
  }
 },
 "nbformat": 4,
 "nbformat_minor": 5
}

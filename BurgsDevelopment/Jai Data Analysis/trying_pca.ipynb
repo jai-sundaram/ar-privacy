{
 "cells": [
  {
   "cell_type": "code",
   "execution_count": 67,
   "id": "d1431531-6bbe-4e2d-a716-a547c8ef0991",
   "metadata": {},
   "outputs": [
    {
     "data": {
      "text/plain": [
       "Index(['time', 'events', 'wearable', 'soc', 'cvip', 'cpu', 'gpu', '5v_sys',\n",
       "       'wlan', 'nvme_pwr1', 'nvme_pwr3', 'nvme_pwr2', 'vddp_run', 'vddp_s5',\n",
       "       'LPDDR_PWR', 'PROC_TOT_PWR', 'THERM_TOT_PWR', 'THERM_TOT_PWR-throttle',\n",
       "       'Tboard_soc1tmp', 'Tdiode_soc1tmp', 'battery', 'chrgr', 'ddr1', 'ddr2',\n",
       "       'mem', 'mero2', 'vrm'],\n",
       "      dtype='object')"
      ]
     },
     "execution_count": 67,
     "metadata": {},
     "output_type": "execute_result"
    }
   ],
   "source": [
    "import pandas as pd \n",
    "import numpy as np \n",
    "dataset = pd.read_csv(r\"C:\\Users\\jesun\\Desktop\\Local Coding\\blinds.csv\")\n",
    "dataset.keys()"
   ]
  },
  {
   "cell_type": "code",
   "execution_count": 69,
   "id": "0b577fae-f41c-4eb7-b52f-ce85c7ad5062",
   "metadata": {},
   "outputs": [
    {
     "name": "stdout",
     "output_type": "stream",
     "text": [
      "         time events wearable      soc     cvip      cpu      gpu   5v_sys  \\\n",
      "0        time  event    power    power    power    power    power    power   \n",
      "1       0.003    NaN  4423000  1050000  2138000  1080000   105000  5070000   \n",
      "2       0.203    NaN  4423000  1110000  1315000   630000   105000  4891000   \n",
      "3       0.403    NaN  4423000  1296000  1496000   853000   105000  4891000   \n",
      "4       0.603    NaN  4456000  1184000  2043000  1134000   105000  4891000   \n",
      "...       ...    ...      ...      ...      ...      ...      ...      ...   \n",
      "1256  251.003    NaN  5023000  1162000  2399000  1242000   963000  5771000   \n",
      "1257  251.203    NaN  4886000  1376000  1496000   731000   105000  5745000   \n",
      "1258  251.402    NaN  4886000  1442000  1354000  1129000  1215000  5745000   \n",
      "1259  251.602    NaN  4886000  1176000  1267000  1895000   105000  5745000   \n",
      "1260  251.802    NaN  4731000  1398000  1354000   772000   105000  5566000   \n",
      "\n",
      "        wlan nvme_pwr1  ... THERM_TOT_PWR-throttle Tboard_soc1tmp  \\\n",
      "0      power     power  ...                  power        thermal   \n",
      "1     125000         0  ...               25000000          111.2   \n",
      "2     125000     10000  ...               25000000          111.2   \n",
      "3     246000         0  ...               25000000          111.2   \n",
      "4     246000         0  ...               25000000          111.2   \n",
      "...      ...       ...  ...                    ...            ...   \n",
      "1256  212000         0  ...               25000000          125.6   \n",
      "1257  203000         0  ...               25000000          125.6   \n",
      "1258  203000         0  ...               25000000          125.6   \n",
      "1259  203000         0  ...               25000000          125.6   \n",
      "1260  228000         0  ...               25000000          125.6   \n",
      "\n",
      "     Tdiode_soc1tmp  battery     chrgr      ddr1      ddr2       mem  \\\n",
      "0           thermal  thermal   thermal   thermal   thermal   thermal   \n",
      "1             107.6     80.6   105.575    110.75   109.175  102.5366   \n",
      "2             107.6     80.6   105.575    110.75   109.175  102.5366   \n",
      "3             107.6     80.6   105.575    110.75  109.2866  102.5366   \n",
      "4             107.6     80.6   105.575    110.75  109.2866  102.5366   \n",
      "...             ...      ...       ...       ...       ...       ...   \n",
      "1256         122.45    83.12    118.85     124.7    122.45    116.15   \n",
      "1257         122.45    83.12  118.7366  124.5866  122.3366    116.15   \n",
      "1258         122.45    83.12  118.7366  124.5866  122.3366    116.15   \n",
      "1259         122.45    83.12  118.7366  124.5866  122.3366    116.15   \n",
      "1260         122.45    83.12  118.7366  124.5866  122.3366    116.15   \n",
      "\n",
      "         mero2       vrm  \n",
      "0      thermal   thermal  \n",
      "1     111.0866   108.275  \n",
      "2     111.0866   108.275  \n",
      "3     111.0866   108.275  \n",
      "4     111.0866   108.275  \n",
      "...        ...       ...  \n",
      "1256  125.2616  121.8866  \n",
      "1257  125.2616  121.8866  \n",
      "1258  125.2616  121.8866  \n",
      "1259  125.2616  121.8866  \n",
      "1260  125.2616  121.8866  \n",
      "\n",
      "[1261 rows x 27 columns]\n"
     ]
    }
   ],
   "source": [
    "print(dataset)"
   ]
  },
  {
   "cell_type": "code",
   "execution_count": 71,
   "id": "22b3078a-069e-473d-9a0b-894bf0d008fc",
   "metadata": {},
   "outputs": [],
   "source": [
    "X= dataset.iloc[1:, :]"
   ]
  },
  {
   "cell_type": "code",
   "execution_count": 73,
   "id": "54806185-61d3-4c0a-978a-b6abc65af254",
   "metadata": {},
   "outputs": [
    {
     "name": "stderr",
     "output_type": "stream",
     "text": [
      "C:\\Users\\jesun\\anaconda3\\Lib\\site-packages\\sklearn\\impute\\_base.py:577: UserWarning: Skipping features without any observed values: ['events']. At least one non-missing value is needed for imputation with strategy='mean'.\n",
      "  warnings.warn(\n"
     ]
    }
   ],
   "source": [
    "from sklearn.impute import SimpleImputer\n",
    "imputer = SimpleImputer(missing_values = np.nan, strategy = 'mean')\n",
    "imputer = imputer.fit(X)\n",
    "X = imputer.transform(X)"
   ]
  },
  {
   "cell_type": "code",
   "execution_count": 75,
   "id": "a63037dc-708b-4abb-b720-b72baa105108",
   "metadata": {},
   "outputs": [],
   "source": [
    "from sklearn.preprocessing import MinMaxScaler\n",
    "scaler = MinMaxScaler()\n",
    "model = scaler.fit(X)\n",
    "scaled_X = model.transform(X)"
   ]
  },
  {
   "cell_type": "code",
   "execution_count": 93,
   "id": "74204f27-81fd-45ae-a1c9-6f0fedf3da6f",
   "metadata": {},
   "outputs": [],
   "source": [
    "from sklearn.decomposition import PCA\n",
    "pca1 = PCA()\n",
    "X_pca1 = pca1.fit_transform(scaled_X)"
   ]
  },
  {
   "cell_type": "code",
   "execution_count": 101,
   "id": "042e5d61-8630-4310-82b8-40a60993d2d1",
   "metadata": {},
   "outputs": [
    {
     "data": {
      "text/plain": [
       "array([6.70340593e-01, 8.46549755e-02, 6.26682665e-02, 4.52478407e-02,\n",
       "       3.59830878e-02, 2.41024550e-02, 1.69817805e-02, 1.53088018e-02,\n",
       "       1.27320080e-02, 1.03013367e-02, 5.70941309e-03, 5.05284863e-03,\n",
       "       3.93342716e-03, 3.20807753e-03, 1.41353522e-03, 1.07177121e-03,\n",
       "       6.54412692e-04, 4.22772806e-04, 1.36992546e-04, 4.16532681e-05,\n",
       "       1.42937631e-05, 8.90544677e-06, 6.42533460e-06, 4.32600527e-06,\n",
       "       1.38796920e-32, 5.93658138e-33])"
      ]
     },
     "execution_count": 101,
     "metadata": {},
     "output_type": "execute_result"
    }
   ],
   "source": [
    "#variation shows how much variance each category has \n",
    "pca1.explained_variance_ratio_"
   ]
  },
  {
   "cell_type": "code",
   "execution_count": null,
   "id": "6195d612-ed34-42f0-8c6b-c65e7f938640",
   "metadata": {},
   "outputs": [],
   "source": [
    "import matplotlib.pyplot as plt \n",
    "plt.bar(range(1,len(pca1.explained_variance_)+1),pca1.explained_variance_)"
   ]
  }
 ],
 "metadata": {
  "kernelspec": {
   "display_name": "Python 3 (ipykernel)",
   "language": "python",
   "name": "python3"
  },
  "language_info": {
   "codemirror_mode": {
    "name": "ipython",
    "version": 3
   },
   "file_extension": ".py",
   "mimetype": "text/x-python",
   "name": "python",
   "nbconvert_exporter": "python",
   "pygments_lexer": "ipython3",
   "version": "3.12.3"
  }
 },
 "nbformat": 4,
 "nbformat_minor": 5
}

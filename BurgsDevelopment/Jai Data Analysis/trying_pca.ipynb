{
 "cells": [
  {
   "cell_type": "code",
   "execution_count": 1,
   "id": "d1431531-6bbe-4e2d-a716-a547c8ef0991",
   "metadata": {
    "scrolled": true
   },
   "outputs": [
    {
     "data": {
      "text/plain": [
       "Index(['time', 'events', 'wearable', 'soc', 'cvip', 'cpu', 'gpu', '5v_sys',\n",
       "       'wlan', 'nvme_pwr1', 'nvme_pwr3', 'nvme_pwr2', 'vddp_run', 'vddp_s5',\n",
       "       'LPDDR_PWR', 'PROC_TOT_PWR', 'THERM_TOT_PWR', 'THERM_TOT_PWR-throttle',\n",
       "       'Tboard_soc1tmp', 'Tdiode_soc1tmp', 'battery', 'chrgr', 'ddr1', 'ddr2',\n",
       "       'mem', 'mero2', 'vrm'],\n",
       "      dtype='object')"
      ]
     },
     "execution_count": 1,
     "metadata": {},
     "output_type": "execute_result"
    }
   ],
   "source": [
    "import pandas as pd \n",
    "import numpy as np \n",
    "dataset = pd.read_csv(r\"C:\\Users\\jesun\\Desktop\\BURGS - AR Privacy\\Development\\ar-privacy\\BurgsDevelopment\\Jai Data Analysis\\blinds.csv\")\n",
    "dataset.keys()"
   ]
  },
  {
   "cell_type": "code",
   "execution_count": 2,
   "id": "0b577fae-f41c-4eb7-b52f-ce85c7ad5062",
   "metadata": {},
   "outputs": [
    {
     "name": "stdout",
     "output_type": "stream",
     "text": [
      "         time  events  wearable      soc     cvip      cpu      gpu   5v_sys  \\\n",
      "0       0.003     NaN   4423000  1050000  2138000  1080000   105000  5070000   \n",
      "1       0.203     NaN   4423000  1110000  1315000   630000   105000  4891000   \n",
      "2       0.403     NaN   4423000  1296000  1496000   853000   105000  4891000   \n",
      "3       0.603     NaN   4456000  1184000  2043000  1134000   105000  4891000   \n",
      "4       0.803     NaN   4456000  1265000  1995000   711000  2864000  5130000   \n",
      "...       ...     ...       ...      ...      ...      ...      ...      ...   \n",
      "1255  251.003     NaN   5023000  1162000  2399000  1242000   963000  5771000   \n",
      "1256  251.203     NaN   4886000  1376000  1496000   731000   105000  5745000   \n",
      "1257  251.402     NaN   4886000  1442000  1354000  1129000  1215000  5745000   \n",
      "1258  251.602     NaN   4886000  1176000  1267000  1895000   105000  5745000   \n",
      "1259  251.802     NaN   4731000  1398000  1354000   772000   105000  5566000   \n",
      "\n",
      "        wlan  nvme_pwr1  ...  THERM_TOT_PWR-throttle  Tboard_soc1tmp  \\\n",
      "0     125000          0  ...                25000000           111.2   \n",
      "1     125000      10000  ...                25000000           111.2   \n",
      "2     246000          0  ...                25000000           111.2   \n",
      "3     246000          0  ...                25000000           111.2   \n",
      "4     229000          0  ...                25000000           111.2   \n",
      "...      ...        ...  ...                     ...             ...   \n",
      "1255  212000          0  ...                25000000           125.6   \n",
      "1256  203000          0  ...                25000000           125.6   \n",
      "1257  203000          0  ...                25000000           125.6   \n",
      "1258  203000          0  ...                25000000           125.6   \n",
      "1259  228000          0  ...                25000000           125.6   \n",
      "\n",
      "      Tdiode_soc1tmp  battery     chrgr      ddr1      ddr2       mem  \\\n",
      "0             107.60    80.60  105.5750  110.7500  109.1750  102.5366   \n",
      "1             107.60    80.60  105.5750  110.7500  109.1750  102.5366   \n",
      "2             107.60    80.60  105.5750  110.7500  109.2866  102.5366   \n",
      "3             107.60    80.60  105.5750  110.7500  109.2866  102.5366   \n",
      "4             107.60    80.60  105.5750  110.7500  109.2866  102.5366   \n",
      "...              ...      ...       ...       ...       ...       ...   \n",
      "1255          122.45    83.12  118.8500  124.7000  122.4500  116.1500   \n",
      "1256          122.45    83.12  118.7366  124.5866  122.3366  116.1500   \n",
      "1257          122.45    83.12  118.7366  124.5866  122.3366  116.1500   \n",
      "1258          122.45    83.12  118.7366  124.5866  122.3366  116.1500   \n",
      "1259          122.45    83.12  118.7366  124.5866  122.3366  116.1500   \n",
      "\n",
      "         mero2       vrm  \n",
      "0     111.0866  108.2750  \n",
      "1     111.0866  108.2750  \n",
      "2     111.0866  108.2750  \n",
      "3     111.0866  108.2750  \n",
      "4     111.0866  108.2750  \n",
      "...        ...       ...  \n",
      "1255  125.2616  121.8866  \n",
      "1256  125.2616  121.8866  \n",
      "1257  125.2616  121.8866  \n",
      "1258  125.2616  121.8866  \n",
      "1259  125.2616  121.8866  \n",
      "\n",
      "[1260 rows x 27 columns]\n"
     ]
    }
   ],
   "source": [
    "print(dataset)"
   ]
  },
  {
   "cell_type": "code",
   "execution_count": 7,
   "id": "22b3078a-069e-473d-9a0b-894bf0d008fc",
   "metadata": {},
   "outputs": [
    {
     "name": "stdout",
     "output_type": "stream",
     "text": [
      "      events  wearable      soc     cvip      cpu      gpu   5v_sys    wlan  \\\n",
      "0        NaN   4423000  1050000  2138000  1080000   105000  5070000  125000   \n",
      "1        NaN   4423000  1110000  1315000   630000   105000  4891000  125000   \n",
      "2        NaN   4423000  1296000  1496000   853000   105000  4891000  246000   \n",
      "3        NaN   4456000  1184000  2043000  1134000   105000  4891000  246000   \n",
      "4        NaN   4456000  1265000  1995000   711000  2864000  5130000  229000   \n",
      "...      ...       ...      ...      ...      ...      ...      ...     ...   \n",
      "1255     NaN   5023000  1162000  2399000  1242000   963000  5771000  212000   \n",
      "1256     NaN   4886000  1376000  1496000   731000   105000  5745000  203000   \n",
      "1257     NaN   4886000  1442000  1354000  1129000  1215000  5745000  203000   \n",
      "1258     NaN   4886000  1176000  1267000  1895000   105000  5745000  203000   \n",
      "1259     NaN   4731000  1398000  1354000   772000   105000  5566000  228000   \n",
      "\n",
      "      nvme_pwr1  nvme_pwr3  ...  THERM_TOT_PWR-throttle  Tboard_soc1tmp  \\\n",
      "0             0       5000  ...                25000000           111.2   \n",
      "1         10000     656000  ...                25000000           111.2   \n",
      "2             0      30000  ...                25000000           111.2   \n",
      "3             0      30000  ...                25000000           111.2   \n",
      "4             0      30000  ...                25000000           111.2   \n",
      "...         ...        ...  ...                     ...             ...   \n",
      "1255          0       8000  ...                25000000           125.6   \n",
      "1256          0       8000  ...                25000000           125.6   \n",
      "1257          0       8000  ...                25000000           125.6   \n",
      "1258          0       5000  ...                25000000           125.6   \n",
      "1259          0       5000  ...                25000000           125.6   \n",
      "\n",
      "      Tdiode_soc1tmp  battery     chrgr      ddr1      ddr2       mem  \\\n",
      "0             107.60    80.60  105.5750  110.7500  109.1750  102.5366   \n",
      "1             107.60    80.60  105.5750  110.7500  109.1750  102.5366   \n",
      "2             107.60    80.60  105.5750  110.7500  109.2866  102.5366   \n",
      "3             107.60    80.60  105.5750  110.7500  109.2866  102.5366   \n",
      "4             107.60    80.60  105.5750  110.7500  109.2866  102.5366   \n",
      "...              ...      ...       ...       ...       ...       ...   \n",
      "1255          122.45    83.12  118.8500  124.7000  122.4500  116.1500   \n",
      "1256          122.45    83.12  118.7366  124.5866  122.3366  116.1500   \n",
      "1257          122.45    83.12  118.7366  124.5866  122.3366  116.1500   \n",
      "1258          122.45    83.12  118.7366  124.5866  122.3366  116.1500   \n",
      "1259          122.45    83.12  118.7366  124.5866  122.3366  116.1500   \n",
      "\n",
      "         mero2       vrm  \n",
      "0     111.0866  108.2750  \n",
      "1     111.0866  108.2750  \n",
      "2     111.0866  108.2750  \n",
      "3     111.0866  108.2750  \n",
      "4     111.0866  108.2750  \n",
      "...        ...       ...  \n",
      "1255  125.2616  121.8866  \n",
      "1256  125.2616  121.8866  \n",
      "1257  125.2616  121.8866  \n",
      "1258  125.2616  121.8866  \n",
      "1259  125.2616  121.8866  \n",
      "\n",
      "[1260 rows x 26 columns]\n"
     ]
    }
   ],
   "source": [
    "X= dataset.iloc[:, 1:]\n",
    "print(X)"
   ]
  },
  {
   "cell_type": "code",
   "execution_count": 9,
   "id": "54806185-61d3-4c0a-978a-b6abc65af254",
   "metadata": {},
   "outputs": [
    {
     "name": "stderr",
     "output_type": "stream",
     "text": [
      "C:\\Users\\jesun\\anaconda3\\Lib\\site-packages\\sklearn\\impute\\_base.py:577: UserWarning: Skipping features without any observed values: ['events']. At least one non-missing value is needed for imputation with strategy='mean'.\n",
      "  warnings.warn(\n"
     ]
    }
   ],
   "source": [
    "from sklearn.impute import SimpleImputer\n",
    "imputer = SimpleImputer(missing_values = np.nan, strategy = 'mean')\n",
    "imputer = imputer.fit(X)\n",
    "X = imputer.transform(X)"
   ]
  },
  {
   "cell_type": "code",
   "execution_count": 10,
   "id": "a63037dc-708b-4abb-b720-b72baa105108",
   "metadata": {},
   "outputs": [],
   "source": [
    "from sklearn.preprocessing import MinMaxScaler\n",
    "scaler = MinMaxScaler()\n",
    "model = scaler.fit(X)\n",
    "scaled_X = model.transform(X)"
   ]
  },
  {
   "cell_type": "code",
   "execution_count": 11,
   "id": "74204f27-81fd-45ae-a1c9-6f0fedf3da6f",
   "metadata": {},
   "outputs": [
    {
     "data": {
      "text/plain": [
       "(1260, 25)"
      ]
     },
     "execution_count": 11,
     "metadata": {},
     "output_type": "execute_result"
    }
   ],
   "source": [
    "from sklearn.decomposition import PCA\n",
    "pca1 = PCA()\n",
    "X_pca1 = pca1.fit_transform(scaled_X)\n",
    "X.shape"
   ]
  },
  {
   "cell_type": "code",
   "execution_count": 15,
   "id": "042e5d61-8630-4310-82b8-40a60993d2d1",
   "metadata": {},
   "outputs": [
    {
     "data": {
      "text/plain": [
       "array([6.52966817e-01, 8.95977256e-02, 6.56901631e-02, 4.77697138e-02,\n",
       "       3.81006950e-02, 2.54465556e-02, 1.78056975e-02, 1.61059729e-02,\n",
       "       1.29265771e-02, 1.08900621e-02, 6.03117114e-03, 5.28214307e-03,\n",
       "       4.16430809e-03, 3.34683919e-03, 1.49632695e-03, 1.13416911e-03,\n",
       "       6.46849993e-04, 4.11740283e-04, 1.45051309e-04, 2.00477241e-05,\n",
       "       9.93372285e-06, 6.84365690e-06, 4.59591953e-06, 5.70191915e-32,\n",
       "       1.80637009e-36])"
      ]
     },
     "execution_count": 15,
     "metadata": {},
     "output_type": "execute_result"
    }
   ],
   "source": [
    "#variation shows how much variance each category has \n",
    "pca1.explained_variance_ratio_"
   ]
  },
  {
   "cell_type": "code",
   "execution_count": 17,
   "id": "6195d612-ed34-42f0-8c6b-c65e7f938640",
   "metadata": {},
   "outputs": [
    {
     "data": {
      "text/plain": [
       "[]"
      ]
     },
     "execution_count": 17,
     "metadata": {},
     "output_type": "execute_result"
    },
    {
     "data": {
      "image/png": "[encoded data removed]",
      "text/plain": [
       "<Figure size 640x480 with 1 Axes>"
      ]
     },
     "metadata": {},
     "output_type": "display_data"
    }
   ],
   "source": [
    "import matplotlib.pyplot as plt \n",
    "plt.bar(range(1,len(pca1.explained_variance_)+1),pca1.explained_variance_)\n",
    "plt.ylabel('Explained Variance')\n",
    "plt.xlabel('Components')\n",
    "plt.plot()"
   ]
  },
  {
   "cell_type": "code",
   "execution_count": 18,
   "id": "1ab9eb19-6d3f-4a63-a786-d80399ab4cd9",
   "metadata": {},
   "outputs": [
    {
     "data": {
      "text/plain": [
       "Text(0, 0.5, 'Explained Variance')"
      ]
     },
     "execution_count": 18,
     "metadata": {},
     "output_type": "execute_result"
    },
    {
     "data": {
      "image/png": "[encoded data removed]",
      "text/plain": [
       "<Figure size 640x480 with 1 Axes>"
      ]
     },
     "metadata": {},
     "output_type": "display_data"
    }
   ],
   "source": [
    "plt.plot(pca1.explained_variance_)\n",
    "plt.xlabel('Number of Components')\n",
    "plt.ylabel('Explained Variance')"
   ]
  },
  {
   "cell_type": "code",
   "execution_count": 21,
   "id": "4ec92a92-e97b-4c04-9407-775854a07d93",
   "metadata": {},
   "outputs": [
    {
     "data": {
      "text/plain": [
       "(1260, 8)"
      ]
     },
     "execution_count": 21,
     "metadata": {},
     "output_type": "execute_result"
    }
   ],
   "source": [
    "#getting the components that explain about 95% of the variance in the data \n",
    "pca2 = PCA(0.95)\n",
    "X_pca2 = pca2.fit_transform(scaled_X)\n",
    "X_pca2.shape"
   ]
  },
  {
   "cell_type": "code",
   "execution_count": 23,
   "id": "9bb799ac-ad04-4c3e-b7b0-b58abc4793e4",
   "metadata": {},
   "outputs": [],
   "source": [
    "#getting the top 2 components \n",
    "pca3 = PCA(n_components=2)\n",
    "X_pca3 = pca3.fit_transform(scaled_X)"
   ]
  },
  {
   "cell_type": "code",
   "execution_count": 28,
   "id": "170b0dcb-70be-4c46-8a28-2e8654901632",
   "metadata": {
    "scrolled": true
   },
   "outputs": [],
   "source": [
    "loadings = pd.DataFrame(pca3.components_.T, columns=['PC1', 'PC2'], index=dataset.columns[:25])"
   ]
  },
  {
   "cell_type": "code",
   "execution_count": null,
   "id": "3794e79b-2bb5-41f8-b462-1230b7b4b17f",
   "metadata": {},
   "outputs": [],
   "source": [
    "print(loadings)"
   ]
  },
  {
   "cell_type": "code",
   "execution_count": null,
   "id": "cc451151-5e3b-4263-99d9-f5afbd9e7df3",
   "metadata": {},
   "outputs": [],
   "source": []
  }
 ],
 "metadata": {
  "kernelspec": {
   "display_name": "Python 3 (ipykernel)",
   "language": "python",
   "name": "python3"
  },
  "language_info": {
   "codemirror_mode": {
    "name": "ipython",
    "version": 3
   },
   "file_extension": ".py",
   "mimetype": "text/x-python",
   "name": "python",
   "nbconvert_exporter": "python",
   "pygments_lexer": "ipython3",
   "version": "3.12.3"
  }
 },
 "nbformat": 4,
 "nbformat_minor": 5
}

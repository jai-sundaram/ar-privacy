{
 "cells": [
  {
   "cell_type": "code",
   "execution_count": null,
   "id": "2c72fb67-4926-44be-ab72-b506ae89ffd6",
   "metadata": {},
   "outputs": [],
   "source": [
    "#only keeping the features which have a feature loading value more than 0.2 for PC1\n",
    "#drop time, events, wearable, soc, cvip, cpu, gpu, 5v_sys, wlan, nvme_pwr1, nvme_pwr3, vddp_run, vddp_s5, LPDDR_PWR, PROC_TOT_PWR"
   ]
  },
  {
   "cell_type": "code",
   "execution_count": 75,
   "id": "bcc7ddce-1a7d-4055-84f2-891132fce7c3",
   "metadata": {},
   "outputs": [
    {
     "name": "stdout",
     "output_type": "stream",
     "text": [
      "Index(['wearable', 'soc', 'cvip', 'cpu', 'gpu', '5v_sys', 'wlan', 'nvme_pwr1',\n",
      "       'nvme_pwr3', 'nvme_pwr2', 'vddp_run', 'vddp_s5', 'LPDDR_PWR',\n",
      "       'PROC_TOT_PWR', 'THERM_TOT_PWR', 'THERM_TOT_PWR-throttle',\n",
      "       'Tboard_soc1tmp', 'Tdiode_soc1tmp', 'battery', 'chrgr', 'ddr1', 'ddr2',\n",
      "       'mem', 'mero2', 'vrm'],\n",
      "      dtype='object')\n"
     ]
    }
   ],
   "source": [
    "import pandas as pd \n",
    "dataset = pd.read_csv(r\"C:\\Users\\jesun\\Desktop\\BURGS - AR Privacy\\Development\\ar-privacy\\BurgsDevelopment\\Jai Data Analysis\\blinds_edited.csv\")\n",
    "print(dataset.columns)"
   ]
  },
  {
   "cell_type": "code",
   "execution_count": 77,
   "id": "8dddb0bf-b91d-4f82-9c96-dd983cde1202",
   "metadata": {},
   "outputs": [],
   "source": [
    "dataset.drop('wearable', axis=1, inplace = True)\n",
    "dataset.drop('soc', axis=1, inplace = True)\n",
    "dataset.drop('cvip', axis=1, inplace = True)\n",
    "dataset.drop('cpu', axis=1, inplace = True)\n",
    "dataset.drop('gpu', axis=1, inplace = True)\n",
    "dataset.drop('5v_sys', axis=1, inplace = True )\n",
    "dataset.drop('wlan', axis=1, inplace = True)\n",
    "dataset.drop('nvme_pwr1', axis=1, inplace = True)\n",
    "dataset.drop('nvme_pwr3', axis=1, inplace = True)\n",
    "dataset.drop('vddp_run', axis=1, inplace = True )\n",
    "dataset.drop('vddp_s5', axis=1, inplace = True)\n",
    "dataset.drop('LPDDR_PWR', axis=1, inplace = True )\n",
    "dataset.drop('PROC_TOT_PWR', axis=1, inplace = True)"
   ]
  },
  {
   "cell_type": "code",
   "execution_count": 79,
   "id": "9e83ff31-0297-467e-89cd-ad955ae84924",
   "metadata": {},
   "outputs": [
    {
     "name": "stdout",
     "output_type": "stream",
     "text": [
      "      nvme_pwr2  THERM_TOT_PWR  THERM_TOT_PWR-throttle  Tboard_soc1tmp  \\\n",
      "0         11000        6047000                25000000           111.2   \n",
      "1             0        5579000                25000000           111.2   \n",
      "2          4000        7284000                25000000           111.2   \n",
      "3          4000        6013000                25000000           111.2   \n",
      "4          4000        7020000                25000000           111.2   \n",
      "...         ...            ...                     ...             ...   \n",
      "1255       4000        6106000                25000000           125.6   \n",
      "1256       4000        6897000                25000000           125.6   \n",
      "1257       7000        6906000                25000000           125.6   \n",
      "1258       4000        6898000                25000000           125.6   \n",
      "1259      11000        6075000                25000000           125.6   \n",
      "\n",
      "      Tdiode_soc1tmp  battery     chrgr      ddr1      ddr2       mem  \\\n",
      "0             107.60    80.60  105.5750  110.7500  109.1750  102.5366   \n",
      "1             107.60    80.60  105.5750  110.7500  109.1750  102.5366   \n",
      "2             107.60    80.60  105.5750  110.7500  109.2866  102.5366   \n",
      "3             107.60    80.60  105.5750  110.7500  109.2866  102.5366   \n",
      "4             107.60    80.60  105.5750  110.7500  109.2866  102.5366   \n",
      "...              ...      ...       ...       ...       ...       ...   \n",
      "1255          122.45    83.12  118.8500  124.7000  122.4500  116.1500   \n",
      "1256          122.45    83.12  118.7366  124.5866  122.3366  116.1500   \n",
      "1257          122.45    83.12  118.7366  124.5866  122.3366  116.1500   \n",
      "1258          122.45    83.12  118.7366  124.5866  122.3366  116.1500   \n",
      "1259          122.45    83.12  118.7366  124.5866  122.3366  116.1500   \n",
      "\n",
      "         mero2       vrm  \n",
      "0     111.0866  108.2750  \n",
      "1     111.0866  108.2750  \n",
      "2     111.0866  108.2750  \n",
      "3     111.0866  108.2750  \n",
      "4     111.0866  108.2750  \n",
      "...        ...       ...  \n",
      "1255  125.2616  121.8866  \n",
      "1256  125.2616  121.8866  \n",
      "1257  125.2616  121.8866  \n",
      "1258  125.2616  121.8866  \n",
      "1259  125.2616  121.8866  \n",
      "\n",
      "[1260 rows x 12 columns]\n"
     ]
    }
   ],
   "source": [
    "print(dataset)"
   ]
  },
  {
   "cell_type": "code",
   "execution_count": null,
   "id": "be650ddf-5f67-4612-a589-748af55c376a",
   "metadata": {},
   "outputs": [],
   "source": []
  }
 ],
 "metadata": {
  "kernelspec": {
   "display_name": "Python 3 (ipykernel)",
   "language": "python",
   "name": "python3"
  },
  "language_info": {
   "codemirror_mode": {
    "name": "ipython",
    "version": 3
   },
   "file_extension": ".py",
   "mimetype": "text/x-python",
   "name": "python",
   "nbconvert_exporter": "python",
   "pygments_lexer": "ipython3",
   "version": "3.12.3"
  }
 },
 "nbformat": 4,
 "nbformat_minor": 5
}

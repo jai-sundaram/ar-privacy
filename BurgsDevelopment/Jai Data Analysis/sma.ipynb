{
 "cells": [
  {
   "cell_type": "code",
   "execution_count": null,
   "id": "2c72fb67-4926-44be-ab72-b506ae89ffd6",
   "metadata": {},
   "outputs": [],
   "source": [
    "#only keeping the features which have a feature loading value more than 0.2 for PC1\n",
    "#drop time, events, wearable, soc, cvip, cpu, gpu, 5v_sys, wlan, nvme_pwr1, nvme_pwr3, vddp_run, vddp_s5, LPDDR_PWR, PROC_TOT_PWR"
   ]
  },
  {
   "cell_type": "code",
   "execution_count": 3,
   "id": "bcc7ddce-1a7d-4055-84f2-891132fce7c3",
   "metadata": {},
   "outputs": [],
   "source": [
    "import pandas as pd \n",
    "dataset = pd.read_csv(r\"C:\\Users\\jesun\\Desktop\\BURGS - AR Privacy\\Development\\ar-privacy\\BurgsDevelopment\\Jai Data Analysis\\blinds_edited.csv\")"
   ]
  },
  {
   "cell_type": "code",
   "execution_count": 17,
   "id": "8dddb0bf-b91d-4f82-9c96-dd983cde1202",
   "metadata": {},
   "outputs": [],
   "source": [
    "dataset.drop(dataset.columns[[0, 9]], axis=1, inplace = True)"
   ]
  },
  {
   "cell_type": "code",
   "execution_count": 19,
   "id": "9e83ff31-0297-467e-89cd-ad955ae84924",
   "metadata": {},
   "outputs": [
    {
     "name": "stdout",
     "output_type": "stream",
     "text": [
      "          soc     cvip      cpu      gpu   5v_sys    wlan  nvme_pwr1  \\\n",
      "0     1050000  2138000  1080000   105000  5070000  125000          0   \n",
      "1     1110000  1315000   630000   105000  4891000  125000      10000   \n",
      "2     1296000  1496000   853000   105000  4891000  246000          0   \n",
      "3     1184000  2043000  1134000   105000  4891000  246000          0   \n",
      "4     1265000  1995000   711000  2864000  5130000  229000          0   \n",
      "...       ...      ...      ...      ...      ...     ...        ...   \n",
      "1255  1162000  2399000  1242000   963000  5771000  212000          0   \n",
      "1256  1376000  1496000   731000   105000  5745000  203000          0   \n",
      "1257  1442000  1354000  1129000  1215000  5745000  203000          0   \n",
      "1258  1176000  1267000  1895000   105000  5745000  203000          0   \n",
      "1259  1398000  1354000   772000   105000  5566000  228000          0   \n",
      "\n",
      "      nvme_pwr2  vddp_s5  LPDDR_PWR  ...  THERM_TOT_PWR-throttle  \\\n",
      "0         11000    63000    2116000  ...                25000000   \n",
      "1             0    63000    2192000  ...                25000000   \n",
      "2          4000    63000    2149000  ...                25000000   \n",
      "3          4000    63000    2172000  ...                25000000   \n",
      "4          4000    63000    2137000  ...                25000000   \n",
      "...         ...      ...        ...  ...                     ...   \n",
      "1255       4000    70000    2313000  ...                25000000   \n",
      "1256       4000    68000    2323000  ...                25000000   \n",
      "1257       7000    68000    2340000  ...                25000000   \n",
      "1258       4000    70000    2346000  ...                25000000   \n",
      "1259      11000    68000    2391000  ...                25000000   \n",
      "\n",
      "      Tboard_soc1tmp  Tdiode_soc1tmp  battery     chrgr      ddr1      ddr2  \\\n",
      "0              111.2          107.60    80.60  105.5750  110.7500  109.1750   \n",
      "1              111.2          107.60    80.60  105.5750  110.7500  109.1750   \n",
      "2              111.2          107.60    80.60  105.5750  110.7500  109.2866   \n",
      "3              111.2          107.60    80.60  105.5750  110.7500  109.2866   \n",
      "4              111.2          107.60    80.60  105.5750  110.7500  109.2866   \n",
      "...              ...             ...      ...       ...       ...       ...   \n",
      "1255           125.6          122.45    83.12  118.8500  124.7000  122.4500   \n",
      "1256           125.6          122.45    83.12  118.7366  124.5866  122.3366   \n",
      "1257           125.6          122.45    83.12  118.7366  124.5866  122.3366   \n",
      "1258           125.6          122.45    83.12  118.7366  124.5866  122.3366   \n",
      "1259           125.6          122.45    83.12  118.7366  124.5866  122.3366   \n",
      "\n",
      "           mem     mero2       vrm  \n",
      "0     102.5366  111.0866  108.2750  \n",
      "1     102.5366  111.0866  108.2750  \n",
      "2     102.5366  111.0866  108.2750  \n",
      "3     102.5366  111.0866  108.2750  \n",
      "4     102.5366  111.0866  108.2750  \n",
      "...        ...       ...       ...  \n",
      "1255  116.1500  125.2616  121.8866  \n",
      "1256  116.1500  125.2616  121.8866  \n",
      "1257  116.1500  125.2616  121.8866  \n",
      "1258  116.1500  125.2616  121.8866  \n",
      "1259  116.1500  125.2616  121.8866  \n",
      "\n",
      "[1260 rows x 22 columns]\n"
     ]
    }
   ],
   "source": [
    "print(dataset)"
   ]
  },
  {
   "cell_type": "code",
   "execution_count": null,
   "id": "be650ddf-5f67-4612-a589-748af55c376a",
   "metadata": {},
   "outputs": [],
   "source": []
  }
 ],
 "metadata": {
  "kernelspec": {
   "display_name": "Python 3 (ipykernel)",
   "language": "python",
   "name": "python3"
  },
  "language_info": {
   "codemirror_mode": {
    "name": "ipython",
    "version": 3
   },
   "file_extension": ".py",
   "mimetype": "text/x-python",
   "name": "python",
   "nbconvert_exporter": "python",
   "pygments_lexer": "ipython3",
   "version": "3.12.3"
  }
 },
 "nbformat": 4,
 "nbformat_minor": 5
}
